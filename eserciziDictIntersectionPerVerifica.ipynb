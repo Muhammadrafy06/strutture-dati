{
  "nbformat": 4,
  "nbformat_minor": 0,
  "metadata": {
    "colab": {
      "provenance": [],
      "collapsed_sections": [],
      "include_colab_link": true
    },
    "kernelspec": {
      "name": "python3",
      "display_name": "Python 3"
    },
    "language_info": {
      "name": "python"
    }
  },
  "cells": [
    {
      "cell_type": "markdown",
      "metadata": {
        "id": "view-in-github",
        "colab_type": "text"
      },
      "source": [
        "<a href=\"https://colab.research.google.com/github/Muhammadrafy06/python/blob/main/eserciziDictIntersectionPerVerifica.ipynb\" target=\"_parent\"><img src=\"https://colab.research.google.com/assets/colab-badge.svg\" alt=\"Open In Colab\"/></a>"
      ]
    },
    {
      "cell_type": "markdown",
      "source": [
        "Prendere in considerazione l'elenco degli studenti della 3E: Avasiloae, Bernasconi, Cottone, D'Arienzo, Dipace, El Allami, Finessi, Fontana, Geremicca, Leone, Lotorto, Milella, Muhammad, Neri, Papes e Poliseno. Qui di seguito ci sono gli studenti che sono stati interrogati in Sistemi: Finessi, Fontana, Geremicca, Neri, Papes. Questi sono invece gli studenti che sono stati interrogati in Tecnologie: Cottone, D'Arienzo, Dipace, El Allami, Finessi, Fontana. Infine, questi sono gli studenti che sono stati interrogati in Informatica: Cottone, Fontana, Papes, Poliseno.\n",
        "\n",
        "Memorizzare queste informazioni in opportune strutture dati \n"
      ],
      "metadata": {
        "id": "CIoz-LH_JcaS"
      }
    },
    {
      "cell_type": "code",
      "source": [
        "studenti3E = {\"Avasiloae\", \"Bernasconi\", \"Cottone\", \"DArienzo\", \"Dipace\", \"ElAllami\", \"Finessi\", \"Fontana\", \"Geremicca\", \"Leone\", \"Lotorto\", \"Milella\", \"Muhammad\", \"Neri\", \"Papes\", \"Poliseno\"}\n",
        "interrogatiSistemi = {\"Finessi\", \"Fontana\", \"Geremicca\", \"Neri\", \"Papes\"}\n",
        "interrogatiTecnologie = {\"Cottone\", \"DArienzo\", \"Dipace\", \"ElAllami\", \"Finessi\", \"Fontana\"}\n",
        "interrogatiInformatica = {\"Cottone\", \"Fontana\", \"Papes\", \"Poliseno\"}"
      ],
      "metadata": {
        "id": "FcA6ciGINCNR"
      },
      "execution_count": null,
      "outputs": []
    },
    {
      "cell_type": "markdown",
      "source": [
        "Scrivere le istruzioni per avere le seguenti informazioni:\n",
        "\n",
        "1. Quali sono gli studenti che sono stati interrogati in almeno una materia?"
      ],
      "metadata": {
        "id": "swXPUzm6ND89"
      }
    },
    {
      "cell_type": "code",
      "source": [
        "studenti3E.intersection_update(interrogatiSistemi)\n",
        "setSistemi = set.intersection(studenti3E, interrogatiSistemi)\n",
        "setTecnologie = set.intersection(studenti3E, interrogatiTecnologie)\n",
        "setInformatica = set.intersection(studenti3E, interrogatiInformatica)\n",
        "\n",
        "\n",
        "print(setSistemi,setTecnologie,setInformatica)"
      ],
      "metadata": {
        "id": "lPoeA6WCNQUb",
        "colab": {
          "base_uri": "https://localhost:8080/"
        },
        "outputId": "3b87ad30-778e-4fe0-b575-b76f12f21364"
      },
      "execution_count": null,
      "outputs": [
        {
          "output_type": "stream",
          "name": "stdout",
          "text": [
            "{'Neri', 'Papes', 'Geremicca', 'Finessi', 'Fontana'} {'Finessi', 'Fontana'} {'Fontana', 'Papes'}\n"
          ]
        }
      ]
    },
    {
      "cell_type": "markdown",
      "source": [
        "2. Quali sono gli studenti che sono stati interrogati in tutte e tre le materie?"
      ],
      "metadata": {
        "id": "hnB69eRMNQub"
      }
    },
    {
      "cell_type": "code",
      "source": [
        "setStudente = set.intersection(studenti3E, interrogatiSistemi, interrogatiTecnologie, interrogatiInformatica)\n",
        "print(setStudente)"
      ],
      "metadata": {
        "id": "CHJF5HwxNRvN",
        "colab": {
          "base_uri": "https://localhost:8080/"
        },
        "outputId": "5bbef1ba-40c9-47e7-cd20-2a2ffbf0dff9"
      },
      "execution_count": null,
      "outputs": [
        {
          "output_type": "stream",
          "name": "stdout",
          "text": [
            "{'Fontana'}\n"
          ]
        }
      ]
    },
    {
      "cell_type": "markdown",
      "source": [
        "3. Quali sono gli studenti che devono ancora essere interrogati in Informatica?"
      ],
      "metadata": {
        "id": "MJsxZy-tNSB0"
      }
    },
    {
      "cell_type": "code",
      "source": [
        "setNonInterrogatiInInfo = studenti3E.difference(interrogatiInformatica)\n",
        "print(setNonInterrogatiInInfo)"
      ],
      "metadata": {
        "id": "Hl4LOAH8NVf1",
        "colab": {
          "base_uri": "https://localhost:8080/"
        },
        "outputId": "704f07ac-96b0-48ac-d7f4-9dd276d65e49"
      },
      "execution_count": null,
      "outputs": [
        {
          "output_type": "stream",
          "name": "stdout",
          "text": [
            "{'Neri', 'Finessi', 'Geremicca'}\n"
          ]
        }
      ]
    },
    {
      "cell_type": "markdown",
      "source": [
        "4. Quali sono gli studenti che non sono stati interrogati in nessuna materia?"
      ],
      "metadata": {
        "id": "ZaUPieRlNV_c"
      }
    },
    {
      "cell_type": "code",
      "source": [
        "setGiaInterrogati = set.union(interrogatiSistemi, interrogatiInformatica, interrogatiTecnologie)\n",
        "\n",
        "print(studenti3E.difference(setGiaInterrogati))"
      ],
      "metadata": {
        "id": "joYYsQtaNZwt",
        "colab": {
          "base_uri": "https://localhost:8080/"
        },
        "outputId": "28f5f3d3-7592-4b9f-f436-44597ff89f13"
      },
      "execution_count": null,
      "outputs": [
        {
          "output_type": "stream",
          "name": "stdout",
          "text": [
            "set()\n"
          ]
        }
      ]
    },
    {
      "cell_type": "markdown",
      "source": [
        "5. Quali sono gli studenti che sono stati interrogati in Informatica ma non in Tecnologie?"
      ],
      "metadata": {
        "id": "9HyaVoK0NaET"
      }
    },
    {
      "cell_type": "code",
      "source": [
        "studentiNonTecnoMaInfo = interrogatiInformatica.difference(interrogatiTecnologie)\n",
        "print(studentiNonTecnoMaInfo)"
      ],
      "metadata": {
        "id": "PDVNMpQzNeUy",
        "colab": {
          "base_uri": "https://localhost:8080/"
        },
        "outputId": "0eb0072d-4d32-428a-95e0-01cf486fb2c6"
      },
      "execution_count": null,
      "outputs": [
        {
          "output_type": "stream",
          "name": "stdout",
          "text": [
            "{'Poliseno', 'Papes'}\n"
          ]
        }
      ]
    },
    {
      "cell_type": "markdown",
      "source": [
        "6. Gli studenti che sono stati interrogati in Sistemi sono stati anche (tutti) interrogati in Tecnologie? (cercare su internet...)"
      ],
      "metadata": {
        "id": "jYC1u7qzNe2L"
      }
    },
    {
      "cell_type": "code",
      "source": [
        "#interrogatiSistemiETecno = interrogatiSistemi.difference(interrogatiTecnologie)\n",
        "#print(interrogatiSistemiETecno)\n",
        "\n",
        "#list1 = [1, 2, 3, 4, 5, 6]\n",
        "#print(\"First list is:\", list1)\n",
        "#list2 = [2, 4, 6, 8, 10, 12]\n",
        "#print(\"Second list is:\", list2)\n",
        "interrogatiSistemiETecno = []\n",
        "for i in interrogatiSistemi:\n",
        "    if i in interrogatiTecnologie:\n",
        "        interrogatiSistemiETecno.append(i)\n",
        "\n",
        "interrogatiSistemiETecnoSet = set(interrogatiSistemiETecno)\n",
        "print(\"Intersection of the lists is:\", interrogatiSistemiETecnoSet)"
      ],
      "metadata": {
        "id": "TCK9UZ2RNkZ7",
        "colab": {
          "base_uri": "https://localhost:8080/"
        },
        "outputId": "cbd59f58-66ad-4ec9-e429-5abc9e2c3fde"
      },
      "execution_count": null,
      "outputs": [
        {
          "output_type": "stream",
          "name": "stdout",
          "text": [
            "Intersection of the lists is: {'Finessi', 'Fontana'}\n"
          ]
        }
      ]
    },
    {
      "cell_type": "markdown",
      "source": [
        "Prendere in considerazione la seguente lista di dizionari, contenente una serie di clienti di un importante negozio di articoli per biciclette:\n",
        "\n"
      ],
      "metadata": {
        "id": "jNA3N49tNk6S"
      }
    },
    {
      "cell_type": "code",
      "source": [
        "clienti = [{'first_name': 'Debra',\n",
        "  'last_name': 'Burks',\n",
        "  'phone': None,\n",
        "  'email': 'debra.burks@yahoo.com',\n",
        "  'street': '9273 Thorne Ave. ',\n",
        "  'city': 'Orchard Park',\n",
        "  'state': 'NY',\n",
        "  'zip_code': '14127',\n",
        "  'total': 1900.00},\n",
        " {'first_name': 'Kasha',\n",
        "  'last_name': 'Todd',\n",
        "  'phone': None,\n",
        "  'email': 'kasha.todd@yahoo.com',\n",
        "  'street': '910 Vine Street ',\n",
        "  'city': 'Campbell',\n",
        "  'state': 'CA',\n",
        "  'zip_code': '95008',\n",
        "  'total': 900.00},\n",
        " {'first_name': 'Tameka',\n",
        "  'last_name': 'Fisher',\n",
        "  'phone': None,\n",
        "  'email': 'tameka.fisher@aol.com',\n",
        "  'street': '769C Honey Creek St. ',\n",
        "  'city': 'Redondo Beach',\n",
        "  'state': 'CA',\n",
        "  'zip_code': '90278',\n",
        "  'total': 90.00},\n",
        " {'first_name': 'Daryl',\n",
        "  'last_name': 'Spence',\n",
        "  'phone': None,\n",
        "  'email': 'daryl.spence@aol.com',\n",
        "  'street': '988 Pearl Lane ',\n",
        "  'city': 'Uniondale',\n",
        "  'state': 'NY',\n",
        "  'zip_code': '11553',\n",
        "  'total': 9030.00},\n",
        " {'first_name': 'Charolette',\n",
        "  'last_name': 'Rice',\n",
        "  'phone': '(916) 381-6003',\n",
        "  'email': 'charolette.rice@msn.com',\n",
        "  'street': '107 River Dr. ',\n",
        "  'city': 'Sacramento',\n",
        "  'state': 'CA',\n",
        "  'zip_code': '95820',\n",
        "  'total': 9008.00},\n",
        " {'first_name': 'Lyndsey',\n",
        "  'last_name': 'Bean',\n",
        "  'phone': None,\n",
        "  'email': 'lyndsey.bean@hotmail.com',\n",
        "  'street': '769 West Road ',\n",
        "  'city': 'Fairport',\n",
        "  'state': 'NY',\n",
        "  'zip_code': '14450',\n",
        "  'total': 2900.90},\n",
        " {'first_name': 'Latasha',\n",
        "  'last_name': 'Hays',\n",
        "  'phone': '(716) 986-3359',\n",
        "  'email': 'latasha.hays@hotmail.com',\n",
        "  'street': '7014 Manor Station Rd. ',\n",
        "  'city': 'Buffalo',\n",
        "  'state': 'NY',\n",
        "  'zip_code': '14215',\n",
        "  'total': 900.00},\n",
        " {'first_name': 'Jacquline',\n",
        "  'last_name': 'Duncan',\n",
        "  'phone': None,\n",
        "  'email': 'jacquline.duncan@yahoo.com',\n",
        "  'street': '15 Brown St. ',\n",
        "  'city': 'Jackson Heights',\n",
        "  'state': 'NY',\n",
        "  'zip_code': '11372',\n",
        "  'total': 900.00},\n",
        " {'first_name': 'Genoveva',\n",
        "  'last_name': 'Baldwin',\n",
        "  'phone': None,\n",
        "  'email': 'genoveva.baldwin@msn.com',\n",
        "  'street': '8550 Spruce Drive ',\n",
        "  'city': 'Port Washington',\n",
        "  'state': 'NY',\n",
        "  'zip_code': '11050',\n",
        "  'total': 9000.00},\n",
        " {'first_name': 'Pamelia',\n",
        "  'last_name': 'Newman',\n",
        "  'phone': None,\n",
        "  'email': 'pamelia.newman@gmail.com',\n",
        "  'street': '476 Chestnut Ave. ',\n",
        "  'city': 'Monroe',\n",
        "  'state': 'NY',\n",
        "  'zip_code': '10950',\n",
        "  'total': 90.90},\n",
        " {'first_name': 'Deshawn',\n",
        "  'last_name': 'Mendoza',\n",
        "  'phone': None,\n",
        "  'email': 'deshawn.mendoza@yahoo.com',\n",
        "  'street': '8790 Cobblestone Street ',\n",
        "  'city': 'Monsey',\n",
        "  'state': 'NY',\n",
        "  'zip_code': '10952',\n",
        "  'total': 90.00},\n",
        " {'first_name': 'Robby',\n",
        "  'last_name': 'Sykes',\n",
        "  'phone': '(516) 583-7761',\n",
        "  'email': 'robby.sykes@hotmail.com',\n",
        "  'street': '486 Rock Maple Street ',\n",
        "  'city': 'Hempstead',\n",
        "  'state': 'NY',\n",
        "  'zip_code': '11550',\n",
        "  'total': 100.00},\n",
        " {'first_name': 'Lashawn',\n",
        "  'last_name': 'Ortiz',\n",
        "  'phone': None,\n",
        "  'email': 'lashawn.ortiz@msn.com',\n",
        "  'street': '27 Washington Rd. ',\n",
        "  'city': 'Longview',\n",
        "  'state': 'TX',\n",
        "  'zip_code': '75604',\n",
        "  'total': 900.00},\n",
        " {'first_name': 'Garry',\n",
        "  'last_name': 'Espinoza',\n",
        "  'phone': None,\n",
        "  'email': 'garry.espinoza@hotmail.com',\n",
        "  'street': '7858 Rockaway Court ',\n",
        "  'city': 'Forney',\n",
        "  'state': 'TX',\n",
        "  'zip_code': '75126',\n",
        "  'total': 3900.00},\n",
        " {'first_name': 'Linnie',\n",
        "  'last_name': 'Branch',\n",
        "  'phone': None,\n",
        "  'email': 'linnie.branch@gmail.com',\n",
        "  'street': '314 South Columbia Ave. ',\n",
        "  'city': 'Plattsburgh',\n",
        "  'state': 'NY',\n",
        "  'zip_code': '12901',\n",
        "  'total': 90087.00},\n",
        " {'first_name': 'Emmitt',\n",
        "  'last_name': 'Sanchez',\n",
        "  'phone': '(212) 945-8823',\n",
        "  'email': 'emmitt.sanchez@hotmail.com',\n",
        "  'street': '461 Squaw Creek Road ',\n",
        "  'city': 'New York',\n",
        "  'state': 'NY',\n",
        "  'zip_code': '10002',\n",
        "  'total': 2900.00},\n",
        " {'first_name': 'Caren',\n",
        "  'last_name': 'Stephens',\n",
        "  'phone': None,\n",
        "  'email': 'caren.stephens@msn.com',\n",
        "  'street': '914 Brook St. ',\n",
        "  'city': 'Scarsdale',\n",
        "  'state': 'NY',\n",
        "  'zip_code': '10583',\n",
        "  'total': 900.00},\n",
        " {'first_name': 'Georgetta',\n",
        "  'last_name': 'Hardin',\n",
        "  'phone': None,\n",
        "  'email': 'georgetta.hardin@aol.com',\n",
        "  'street': '474 Chapel Dr. ',\n",
        "  'city': 'Canandaigua',\n",
        "  'state': 'NY',\n",
        "  'zip_code': '14424',\n",
        "  'total': 900.00},\n",
        " {'first_name': 'Lizzette',\n",
        "  'last_name': 'Stein',\n",
        "  'phone': None,\n",
        "  'email': 'lizzette.stein@yahoo.com',\n",
        "  'street': '19 Green Hill Lane ',\n",
        "  'city': 'Orchard Park',\n",
        "  'state': 'NY',\n",
        "  'zip_code': '14127',\n",
        "  'total': 9.00},\n",
        " {'first_name': 'Aleta',\n",
        "  'last_name': 'Shepard',\n",
        "  'phone': None,\n",
        "  'email': 'aleta.shepard@aol.com',\n",
        "  'street': '684 Howard St. ',\n",
        "  'city': 'Sugar Land',\n",
        "  'state': 'TX',\n",
        "  'zip_code': '77478',\n",
        "  'total': 999.00}]\n",
        "\n",
        "print(clienti)"
      ],
      "metadata": {
        "colab": {
          "base_uri": "https://localhost:8080/"
        },
        "id": "fuwHsPoCOSaa",
        "outputId": "b89b9e58-5ee1-4a7d-933c-de2040237a78"
      },
      "execution_count": null,
      "outputs": [
        {
          "output_type": "stream",
          "name": "stdout",
          "text": [
            "[{'first_name': 'Debra', 'last_name': 'Burks', 'phone': None, 'email': 'debra.burks@yahoo.com', 'street': '9273 Thorne Ave. ', 'city': 'Orchard Park', 'state': 'NY', 'zip_code': '14127', 'total': 1900.0}, {'first_name': 'Kasha', 'last_name': 'Todd', 'phone': None, 'email': 'kasha.todd@yahoo.com', 'street': '910 Vine Street ', 'city': 'Campbell', 'state': 'CA', 'zip_code': '95008', 'total': 900.0}, {'first_name': 'Tameka', 'last_name': 'Fisher', 'phone': None, 'email': 'tameka.fisher@aol.com', 'street': '769C Honey Creek St. ', 'city': 'Redondo Beach', 'state': 'CA', 'zip_code': '90278', 'total': 90.0}, {'first_name': 'Daryl', 'last_name': 'Spence', 'phone': None, 'email': 'daryl.spence@aol.com', 'street': '988 Pearl Lane ', 'city': 'Uniondale', 'state': 'NY', 'zip_code': '11553', 'total': 9030.0}, {'first_name': 'Charolette', 'last_name': 'Rice', 'phone': '(916) 381-6003', 'email': 'charolette.rice@msn.com', 'street': '107 River Dr. ', 'city': 'Sacramento', 'state': 'CA', 'zip_code': '95820', 'total': 9008.0}, {'first_name': 'Lyndsey', 'last_name': 'Bean', 'phone': None, 'email': 'lyndsey.bean@hotmail.com', 'street': '769 West Road ', 'city': 'Fairport', 'state': 'NY', 'zip_code': '14450', 'total': 2900.9}, {'first_name': 'Latasha', 'last_name': 'Hays', 'phone': '(716) 986-3359', 'email': 'latasha.hays@hotmail.com', 'street': '7014 Manor Station Rd. ', 'city': 'Buffalo', 'state': 'NY', 'zip_code': '14215', 'total': 900.0}, {'first_name': 'Jacquline', 'last_name': 'Duncan', 'phone': None, 'email': 'jacquline.duncan@yahoo.com', 'street': '15 Brown St. ', 'city': 'Jackson Heights', 'state': 'NY', 'zip_code': '11372', 'total': 900.0}, {'first_name': 'Genoveva', 'last_name': 'Baldwin', 'phone': None, 'email': 'genoveva.baldwin@msn.com', 'street': '8550 Spruce Drive ', 'city': 'Port Washington', 'state': 'NY', 'zip_code': '11050', 'total': 9000.0}, {'first_name': 'Pamelia', 'last_name': 'Newman', 'phone': None, 'email': 'pamelia.newman@gmail.com', 'street': '476 Chestnut Ave. ', 'city': 'Monroe', 'state': 'NY', 'zip_code': '10950', 'total': 90.9}, {'first_name': 'Deshawn', 'last_name': 'Mendoza', 'phone': None, 'email': 'deshawn.mendoza@yahoo.com', 'street': '8790 Cobblestone Street ', 'city': 'Monsey', 'state': 'NY', 'zip_code': '10952', 'total': 90.0}, {'first_name': 'Robby', 'last_name': 'Sykes', 'phone': '(516) 583-7761', 'email': 'robby.sykes@hotmail.com', 'street': '486 Rock Maple Street ', 'city': 'Hempstead', 'state': 'NY', 'zip_code': '11550', 'total': 100.0}, {'first_name': 'Lashawn', 'last_name': 'Ortiz', 'phone': None, 'email': 'lashawn.ortiz@msn.com', 'street': '27 Washington Rd. ', 'city': 'Longview', 'state': 'TX', 'zip_code': '75604', 'total': 900.0}, {'first_name': 'Garry', 'last_name': 'Espinoza', 'phone': None, 'email': 'garry.espinoza@hotmail.com', 'street': '7858 Rockaway Court ', 'city': 'Forney', 'state': 'TX', 'zip_code': '75126', 'total': 3900.0}, {'first_name': 'Linnie', 'last_name': 'Branch', 'phone': None, 'email': 'linnie.branch@gmail.com', 'street': '314 South Columbia Ave. ', 'city': 'Plattsburgh', 'state': 'NY', 'zip_code': '12901', 'total': 90087.0}, {'first_name': 'Emmitt', 'last_name': 'Sanchez', 'phone': '(212) 945-8823', 'email': 'emmitt.sanchez@hotmail.com', 'street': '461 Squaw Creek Road ', 'city': 'New York', 'state': 'NY', 'zip_code': '10002', 'total': 2900.0}, {'first_name': 'Caren', 'last_name': 'Stephens', 'phone': None, 'email': 'caren.stephens@msn.com', 'street': '914 Brook St. ', 'city': 'Scarsdale', 'state': 'NY', 'zip_code': '10583', 'total': 900.0}, {'first_name': 'Georgetta', 'last_name': 'Hardin', 'phone': None, 'email': 'georgetta.hardin@aol.com', 'street': '474 Chapel Dr. ', 'city': 'Canandaigua', 'state': 'NY', 'zip_code': '14424', 'total': 900.0}, {'first_name': 'Lizzette', 'last_name': 'Stein', 'phone': None, 'email': 'lizzette.stein@yahoo.com', 'street': '19 Green Hill Lane ', 'city': 'Orchard Park', 'state': 'NY', 'zip_code': '14127', 'total': 9.0}, {'first_name': 'Aleta', 'last_name': 'Shepard', 'phone': None, 'email': 'aleta.shepard@aol.com', 'street': '684 Howard St. ', 'city': 'Sugar Land', 'state': 'TX', 'zip_code': '77478', 'total': 999.0}]\n"
          ]
        }
      ]
    },
    {
      "cell_type": "markdown",
      "source": [
        "contare quanti clienti ci sono per stato"
      ],
      "metadata": {
        "id": "eGKCiELWkfCI"
      }
    },
    {
      "cell_type": "code",
      "source": [
        "clientiNY = 0\n",
        "clientiTX = 0\n",
        "clientiCA = 0\n",
        "for info in clienti:\n",
        "  if info[\"state\"] == \"TX\":\n",
        "      clientiTX +=1 \n",
        "  elif info[\"state\"] == \"NY\":\n",
        "      clientiNY += 1\n",
        "  elif info[\"state\"] == \"CA\":\n",
        "      clientiCA += 1      \n",
        "  \n",
        "\n",
        "print(clientiNY)\n",
        "print(clientiTX)\n",
        "print(clientiCA)\n",
        "\n"
      ],
      "metadata": {
        "colab": {
          "base_uri": "https://localhost:8080/"
        },
        "id": "rd6tQF8Kkka1",
        "outputId": "b8573f51-ca88-4fb5-c715-6fc7bda41ffb"
      },
      "execution_count": null,
      "outputs": [
        {
          "output_type": "stream",
          "name": "stdout",
          "text": [
            "14\n",
            "3\n",
            "3\n"
          ]
        }
      ]
    },
    {
      "cell_type": "markdown",
      "source": [
        "1. visualizzare tutte le informazioni dei clienti che abitano in California"
      ],
      "metadata": {
        "id": "NcuT9BdAOl5Z"
      }
    },
    {
      "cell_type": "code",
      "source": [
        "for info in clienti:\n",
        "  if info[\"state\"] == \"CA\":\n",
        "    print(info[\"first_name\"])\n",
        "    print(info[\"last_name\"])\n",
        "    print(info[\"phone\"])\n",
        "    print(info[\"email\"])\n",
        "    print(info[\"street\"])\n",
        "    print(info[\"city\"])\n",
        "    print(info[\"state\"])\n",
        "    print(info[\"zip_code\"])\n",
        "    print(info[\"total\"])"
      ],
      "metadata": {
        "id": "bIeh6kz-OrIP",
        "colab": {
          "base_uri": "https://localhost:8080/"
        },
        "outputId": "f7975793-abf9-4cc4-8a89-b37c1dc6a300"
      },
      "execution_count": null,
      "outputs": [
        {
          "output_type": "stream",
          "name": "stdout",
          "text": [
            "Kasha\n",
            "Todd\n",
            "None\n",
            "kasha.todd@yahoo.com\n",
            "910 Vine Street \n",
            "Campbell\n",
            "CA\n",
            "95008\n",
            "900.0\n",
            "Tameka\n",
            "Fisher\n",
            "None\n",
            "tameka.fisher@aol.com\n",
            "769C Honey Creek St. \n",
            "Redondo Beach\n",
            "CA\n",
            "90278\n",
            "90.0\n",
            "Charolette\n",
            "Rice\n",
            "(916) 381-6003\n",
            "charolette.rice@msn.com\n",
            "107 River Dr. \n",
            "Sacramento\n",
            "CA\n",
            "95820\n",
            "9008.0\n"
          ]
        }
      ]
    },
    {
      "cell_type": "markdown",
      "source": [
        "2. visualizzare le informazioni di un cliente di cui si inserisce la mail"
      ],
      "metadata": {
        "id": "rgR0DZB_OrgA"
      }
    },
    {
      "cell_type": "code",
      "source": [
        "emailInput = str(input(\"inserire un email: \"))\n",
        "for info in clienti:\n",
        "  if info[\"email\"] == emailInput:\n",
        "    print(info[\"first_name\"])\n",
        "    print(info[\"last_name\"])\n",
        "    print(info[\"phone\"])\n",
        "    print(info[\"email\"])\n",
        "    print(info[\"street\"])\n",
        "    print(info[\"city\"])\n",
        "    print(info[\"state\"])\n",
        "    print(info[\"zip_code\"])\n",
        "    print(info[\"total\"])"
      ],
      "metadata": {
        "id": "2-Nx0Hk7OyF8",
        "colab": {
          "base_uri": "https://localhost:8080/"
        },
        "outputId": "bdbff190-7853-465f-cedd-76969cd50f50"
      },
      "execution_count": null,
      "outputs": [
        {
          "output_type": "stream",
          "name": "stdout",
          "text": [
            "inserire un email: emmitt.sanchez@hotmail.com\n",
            "Emmitt\n",
            "Sanchez\n",
            "(212) 945-8823\n",
            "emmitt.sanchez@hotmail.com\n",
            "461 Squaw Creek Road \n",
            "New York\n",
            "NY\n",
            "10002\n",
            "2900.0\n"
          ]
        }
      ]
    },
    {
      "cell_type": "markdown",
      "source": [
        "3. contare il numero di clienti presenti "
      ],
      "metadata": {
        "id": "raOzr_dBOydf"
      }
    },
    {
      "cell_type": "code",
      "source": [
        "print(len(clienti))"
      ],
      "metadata": {
        "id": "K1rr_Y3VO0vP",
        "colab": {
          "base_uri": "https://localhost:8080/"
        },
        "outputId": "25af72b0-c5e8-4556-bfde-8e8062f3f573"
      },
      "execution_count": null,
      "outputs": [
        {
          "output_type": "stream",
          "name": "stdout",
          "text": [
            "20\n"
          ]
        }
      ]
    },
    {
      "cell_type": "markdown",
      "source": [
        "4. visualizzare il nome del cliente che ha speso di più"
      ],
      "metadata": {
        "id": "cVOvYV-IO1Kn"
      }
    },
    {
      "cell_type": "code",
      "source": [
        "soldiPiuSpesi = [clienti[i][\"total\"] for i in range(len(clienti))]\n",
        "\n",
        "\n",
        "for i in clienti:\n",
        "  if max(soldiPiuSpesi) == i[\"total\"]:\n",
        "    print(i[\"first_name\"])"
      ],
      "metadata": {
        "id": "Vb_1KfF2QWk8",
        "colab": {
          "base_uri": "https://localhost:8080/"
        },
        "outputId": "383afdac-3eb5-48ce-9fda-81a933e8ef78"
      },
      "execution_count": null,
      "outputs": [
        {
          "output_type": "stream",
          "name": "stdout",
          "text": [
            "Linnie\n"
          ]
        }
      ]
    },
    {
      "cell_type": "markdown",
      "source": [
        "5. visualizzare i clienti che hanno speso più di 2000 $"
      ],
      "metadata": {
        "id": "hXfHHRvxQW3f"
      }
    },
    {
      "cell_type": "code",
      "source": [
        "for i in clienti:\n",
        "  if i[\"total\"] > 2000:\n",
        "    print(i[\"first_name\"])"
      ],
      "metadata": {
        "id": "Xn_lY9u-Qbmo",
        "colab": {
          "base_uri": "https://localhost:8080/"
        },
        "outputId": "02743f6d-ddc0-46f5-a84b-2ce01cb375fa"
      },
      "execution_count": null,
      "outputs": [
        {
          "output_type": "stream",
          "name": "stdout",
          "text": [
            "Daryl\n",
            "Charolette\n",
            "Lyndsey\n",
            "Genoveva\n",
            "Garry\n",
            "Linnie\n",
            "Emmitt\n"
          ]
        }
      ]
    },
    {
      "cell_type": "markdown",
      "source": [
        "6. visualizzare gli stati dei clienti che hanno speso più di 2000 $ senza ripetizioni"
      ],
      "metadata": {
        "id": "oL53wVJbQcLj"
      }
    },
    {
      "cell_type": "code",
      "source": [
        "listaNazioni = []\n",
        "for i in clienti:\n",
        "  if i[\"total\"] > 2000:\n",
        "    listaNazioni.append(i[\"state\"])\n",
        "\n",
        "setNazioni = set(listaNazioni)\n",
        "\n",
        "print(setNazioni)"
      ],
      "metadata": {
        "id": "eZO7ttcAQyJ-",
        "colab": {
          "base_uri": "https://localhost:8080/"
        },
        "outputId": "4f4ece18-5988-4875-acdb-5e7249074204"
      },
      "execution_count": null,
      "outputs": [
        {
          "output_type": "stream",
          "name": "stdout",
          "text": [
            "['NY', 'CA', 'NY', 'NY', 'TX', 'NY', 'NY']\n",
            "{'NY', 'TX', 'CA'}\n"
          ]
        }
      ]
    },
    {
      "cell_type": "markdown",
      "source": [
        "Prendere in considerazione la lista nomi=['maria', 'stefano', 'anna', 'carlo'] e la lista cognomi = ['rossi', 'bianchi', 'verdi', 'neri']. Scrivere il codice per creare da queste due liste una lista di dizionari aventi come chiavi nome e cognome (google it...)"
      ],
      "metadata": {
        "id": "L7d8r8-GQyn4"
      }
    },
    {
      "cell_type": "code",
      "source": [
        "\n",
        "nomi=['maria', 'stefano', 'anna', 'carlo']\n",
        "cognomi = ['rossi', 'bianchi', 'verdi', 'neri']\n",
        "\n",
        "dictFinale  = [{\"nome\":nomi[indice],\"cognome\":cognomi[indice]} for indice in range(len(nomi))]\n",
        "\n",
        "\n",
        "print(dictFinale)"
      ],
      "metadata": {
        "id": "53QgMjSRRNWX",
        "colab": {
          "base_uri": "https://localhost:8080/"
        },
        "outputId": "a497f4a6-e5e9-4899-e61d-5d0e1068ff63"
      },
      "execution_count": null,
      "outputs": [
        {
          "output_type": "stream",
          "name": "stdout",
          "text": [
            "[{'nome': 'maria', 'cognome': 'rossi'}, {'nome': 'stefano', 'cognome': 'bianchi'}, {'nome': 'anna', 'cognome': 'verdi'}, {'nome': 'carlo', 'cognome': 'neri'}]\n"
          ]
        }
      ]
    },
    {
      "cell_type": "code",
      "source": [],
      "metadata": {
        "colab": {
          "base_uri": "https://localhost:8080/"
        },
        "id": "crvF_eoajCTA",
        "outputId": "a16a673f-581c-421c-9171-ffbab38e7be0"
      },
      "execution_count": null,
      "outputs": [
        {
          "output_type": "stream",
          "name": "stdout",
          "text": [
            "Original key list is : ['nome', 'nome', 'nome']\n",
            "Original value list is : ['maria', 'stefano', 'anna', 'carlo']\n",
            "Resultant dictionary is : {'nome': 'anna'}\n"
          ]
        }
      ]
    }
  ]
}