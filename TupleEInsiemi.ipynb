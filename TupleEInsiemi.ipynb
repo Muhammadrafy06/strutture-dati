{
  "nbformat": 4,
  "nbformat_minor": 0,
  "metadata": {
    "colab": {
      "provenance": [],
      "authorship_tag": "ABX9TyPzozjqF/BumQI/eu9apRYV",
      "include_colab_link": true
    },
    "kernelspec": {
      "name": "python3",
      "display_name": "Python 3"
    },
    "language_info": {
      "name": "python"
    }
  },
  "cells": [
    {
      "cell_type": "markdown",
      "metadata": {
        "id": "view-in-github",
        "colab_type": "text"
      },
      "source": [
        "<a href=\"https://colab.research.google.com/github/Muhammadrafy06/strutture-dati/blob/main/TupleEInsiemi.ipynb\" target=\"_parent\"><img src=\"https://colab.research.google.com/assets/colab-badge.svg\" alt=\"Open In Colab\"/></a>"
      ]
    },
    {
      "cell_type": "code",
      "execution_count": null,
      "metadata": {
        "colab": {
          "base_uri": "https://localhost:8080/"
        },
        "id": "73ryZMyHPVbr",
        "outputId": "b5fbbe0d-2914-4b89-b757-d3ac5dfb34c6"
      },
      "outputs": [
        {
          "output_type": "stream",
          "name": "stdout",
          "text": [
            "(0, 1, 2, 3, 4)\n"
          ]
        }
      ],
      "source": [
        "tuple1 = (0,1,2,3,4) #tuples readOnly \n",
        "print(tuple1)"
      ]
    },
    {
      "cell_type": "code",
      "source": [
        "print(type(\"prova\",))\n",
        "pluto = [1,2,3,4,5]\n",
        "\n",
        "tuple5 = tuple(pluto)"
      ],
      "metadata": {
        "id": "iuRfvGbGQSGJ"
      },
      "execution_count": null,
      "outputs": []
    },
    {
      "cell_type": "code",
      "source": [
        "#1\n",
        "import random\n",
        "lista1 = [random.randint(0,100) for i in range(20)]\n",
        "tupla1 = tuple(lista1)\n",
        "print(lista1)\n",
        "print(tupla1)"
      ],
      "metadata": {
        "colab": {
          "base_uri": "https://localhost:8080/"
        },
        "id": "F2CuWX9uTc_x",
        "outputId": "45f5db59-6b01-4aa6-a01c-1839c749e4c9"
      },
      "execution_count": null,
      "outputs": [
        {
          "output_type": "stream",
          "name": "stdout",
          "text": [
            "[82, 25, 79, 54, 15, 58, 88, 28, 88, 21, 14, 34, 2, 39, 32, 28, 12, 75, 44, 50]\n",
            "(82, 25, 79, 54, 15, 58, 88, 28, 88, 21, 14, 34, 2, 39, 32, 28, 12, 75, 44, 50)\n"
          ]
        }
      ]
    },
    {
      "cell_type": "code",
      "source": [
        "lista2 = list(tupla1)\n",
        "lista2[0:0] = [\"avasiloae\", \"bernasconi\", \"cottone\"]\n",
        "print(lista2)"
      ],
      "metadata": {
        "colab": {
          "base_uri": "https://localhost:8080/"
        },
        "id": "OChW270TVvym",
        "outputId": "55179dfc-ee8d-4862-c55e-4f72818dd7d1"
      },
      "execution_count": null,
      "outputs": [
        {
          "output_type": "stream",
          "name": "stdout",
          "text": [
            "['avasiloae', 'bernasconi', 'cottone', 82, 25, 79, 54, 15, 58, 88, 28, 88, 21, 14, 34, 2, 39, 32, 28, 12, 75, 44, 50]\n"
          ]
        }
      ]
    },
    {
      "cell_type": "code",
      "source": [
        "#le sets\n",
        "\n",
        "insiemeNumerico = {1,2,3,4,5}\n",
        "prova = {i for i in range(10)}\n",
        "\n",
        "#true = 1 \n",
        "#false = 0"
      ],
      "metadata": {
        "id": "5yUPuOHYXqlX"
      },
      "execution_count": null,
      "outputs": []
    },
    {
      "cell_type": "code",
      "source": [
        "#update()\n",
        "\n",
        "insieme6 = {\"giorgia\" , 78, 7}\n",
        "insieme = {\"poli\", \"loto\", \"simo\" , 7}\n",
        "\n",
        "#pop()\n",
        "#set\n",
        "insieme8 = set()\n",
        "print(type(insieme8))"
      ],
      "metadata": {
        "colab": {
          "base_uri": "https://localhost:8080/"
        },
        "id": "rIppXNRleHty",
        "outputId": "9b736c3b-01f2-4b35-ef1f-b885fb71d6ca"
      },
      "execution_count": null,
      "outputs": [
        {
          "output_type": "stream",
          "name": "stdout",
          "text": [
            "<class 'set'>\n"
          ]
        }
      ]
    },
    {
      "cell_type": "code",
      "source": [
        "del insieme8"
      ],
      "metadata": {
        "id": "Fv_nDL_HgKtw"
      },
      "execution_count": null,
      "outputs": []
    },
    {
      "cell_type": "code",
      "source": [
        "insieme = {1,4,5,6,7,10,1,4}\n",
        "print(insieme)\n",
        "#non si puo fare perchè ci sono dei duplicati"
      ],
      "metadata": {
        "id": "k-dVUYrkiBzQ"
      },
      "execution_count": null,
      "outputs": []
    },
    {
      "cell_type": "code",
      "source": [
        "insieme2 = {\"pizza\", \"pasta\", \"carne\", \"pesce\"}"
      ],
      "metadata": {
        "id": "N3Azasbtih3R"
      },
      "execution_count": null,
      "outputs": []
    },
    {
      "cell_type": "code",
      "source": [
        "insieme2.add(\"hamburger\")\n",
        "print(insieme2)"
      ],
      "metadata": {
        "colab": {
          "base_uri": "https://localhost:8080/"
        },
        "id": "0lclEcahitKD",
        "outputId": "fa3b9b09-36ed-4d23-e207-e161ad3ae46a"
      },
      "execution_count": null,
      "outputs": [
        {
          "output_type": "stream",
          "name": "stdout",
          "text": [
            "{'pasta', 'pizza', 'pesce', 'carne', 'hamburger'}\n"
          ]
        }
      ]
    },
    {
      "cell_type": "code",
      "source": [
        "insieme2.clear()\n"
      ],
      "metadata": {
        "id": "-hL160nVi5VE"
      },
      "execution_count": null,
      "outputs": []
    },
    {
      "cell_type": "code",
      "source": [
        "#caricare in una lista 20 numeri casuali ed eliminare i duplicati\n",
        "import random\n",
        "lista14 = [random.randint(10,100) for i in range(20)]\n",
        "print(lista14)\n",
        "set1 = set(lista14)\n",
        "print(set1)\n",
        "\n",
        "listaSenzaDup = list(set1)\n",
        "print(listaSenzaDup)\n"
      ],
      "metadata": {
        "colab": {
          "base_uri": "https://localhost:8080/"
        },
        "id": "OQpaV3umj6qE",
        "outputId": "9a041c65-f65d-4722-afa9-d7d65544916a"
      },
      "execution_count": null,
      "outputs": [
        {
          "output_type": "stream",
          "name": "stdout",
          "text": [
            "[37, 46, 73, 51, 53, 31, 86, 17, 16, 84, 79, 23, 38, 38, 17, 52, 44, 28, 23, 67]\n",
            "{67, 37, 38, 73, 44, 46, 79, 16, 17, 51, 84, 53, 86, 23, 52, 28, 31}\n",
            "[67, 37, 38, 73, 44, 46, 79, 16, 17, 51, 84, 53, 86, 23, 52, 28, 31]\n"
          ]
        }
      ]
    },
    {
      "cell_type": "code",
      "source": [
        "itaEng = {\n",
        "    \"scarpa\":\"shoe\",\n",
        "    \"sciarpa\":\"scarf\",\n",
        "}\n"
      ],
      "metadata": {
        "id": "xKJKLF2YnbkH"
      },
      "execution_count": null,
      "outputs": []
    },
    {
      "cell_type": "code",
      "source": [
        "lista1 = [\"mela\", \"arancia\", \"banana\"]\n",
        "\n",
        "tupla1 = (\"mela\", \"arancia\", \"banana\")\n",
        "\n",
        "tupla2 = (\"mela\")"
      ],
      "metadata": {
        "id": "DXF0Z9fkjx_b"
      },
      "execution_count": null,
      "outputs": []
    },
    {
      "cell_type": "code",
      "source": [
        "lista1.append(\"uva\")\n",
        "print(lista1)\n"
      ],
      "metadata": {
        "id": "_iw0g9k9kZvL"
      },
      "execution_count": null,
      "outputs": []
    },
    {
      "cell_type": "code",
      "source": [],
      "metadata": {
        "id": "IZwgmzbgkrxT"
      },
      "execution_count": null,
      "outputs": []
    },
    {
      "cell_type": "code",
      "source": [
        "milella = {\"banana\", \"kiwi\", \"arancia\"}\n",
        "avasiloae = {\"pere\", \"uva\", \"kiwi\"}"
      ],
      "metadata": {
        "id": "7yuzJ0lglNLs"
      },
      "execution_count": null,
      "outputs": []
    },
    {
      "cell_type": "code",
      "source": [
        "fruttiComuni = milella.intersection(avasiloae)\n",
        "tuttiFrutti = milella.union(avasiloae)\n",
        "print(tuttiFrutti)"
      ],
      "metadata": {
        "colab": {
          "base_uri": "https://localhost:8080/"
        },
        "id": "v51ulF5QkEtj",
        "outputId": "fdd7b32a-8368-4841-d284-75a054c929a4"
      },
      "execution_count": null,
      "outputs": [
        {
          "output_type": "stream",
          "name": "stdout",
          "text": [
            "{'arancia', 'kiwi', 'banana', 'pere', 'uva'}\n"
          ]
        }
      ]
    },
    {
      "cell_type": "code",
      "source": [
        "fruttiMilella = milella.symmetric_difference(avasiloae)\n",
        "print(tuttiFrutti)"
      ],
      "metadata": {
        "colab": {
          "base_uri": "https://localhost:8080/"
        },
        "id": "qhswshf2oaac",
        "outputId": "00660b2b-2c51-43ef-b976-9892292656a9"
      },
      "execution_count": null,
      "outputs": [
        {
          "output_type": "stream",
          "name": "stdout",
          "text": [
            "{'arancia', 'kiwi', 'banana', 'pere', 'uva'}\n"
          ]
        }
      ]
    },
    {
      "cell_type": "code",
      "source": [
        "fruttiMilella = milella.difference(avasiloae)\n",
        "print(tuttiFrutti)"
      ],
      "metadata": {
        "colab": {
          "base_uri": "https://localhost:8080/"
        },
        "id": "kT9-FRbdozlj",
        "outputId": "59401a5f-d847-4247-c2fc-cf8ff86e9ea9"
      },
      "execution_count": null,
      "outputs": [
        {
          "output_type": "stream",
          "name": "stdout",
          "text": [
            "{'arancia', 'kiwi', 'banana', 'pere', 'uva'}\n"
          ]
        }
      ]
    },
    {
      "cell_type": "code",
      "source": [
        "milella.add(\"fragole\")\n",
        "print(milella)"
      ],
      "metadata": {
        "id": "PxiINmNPqNrs"
      },
      "execution_count": null,
      "outputs": []
    },
    {
      "cell_type": "code",
      "source": [
        "frutta = {\"uva\", \"mela\", \"uva\", \"uva\", \"mela\", \"kiwi\", \"mela\"}"
      ],
      "metadata": {
        "id": "zCvRRp39q0vD"
      },
      "execution_count": null,
      "outputs": []
    },
    {
      "cell_type": "code",
      "source": [
        "fruttaInsieme = set(frutta)\n",
        "print(fruttaInsieme)"
      ],
      "metadata": {
        "colab": {
          "base_uri": "https://localhost:8080/"
        },
        "id": "OBKhBzuirE91",
        "outputId": "3e87863d-e88a-4949-81f5-9d862a976cb3"
      },
      "execution_count": null,
      "outputs": [
        {
          "output_type": "stream",
          "name": "stdout",
          "text": [
            "{'uva', 'mela', 'kiwi'}\n"
          ]
        }
      ]
    },
    {
      "cell_type": "code",
      "source": [
        "fruttaLista = list(fruttaInsieme)\n",
        "print(fruttaLista)"
      ],
      "metadata": {
        "colab": {
          "base_uri": "https://localhost:8080/"
        },
        "id": "EOD5FIVLrhOs",
        "outputId": "945873c4-66ee-4f72-aad2-82c1230b8ef8"
      },
      "execution_count": null,
      "outputs": [
        {
          "output_type": "stream",
          "name": "stdout",
          "text": [
            "['uva', 'mela', 'kiwi']\n"
          ]
        }
      ]
    },
    {
      "cell_type": "code",
      "source": [
        "fruttaTupla = tuple(fruttaLista)\n",
        "print(fruttaTupla)"
      ],
      "metadata": {
        "colab": {
          "base_uri": "https://localhost:8080/"
        },
        "id": "zaTjWLn4rmnc",
        "outputId": "6cb25a13-2684-409f-80ad-18fa96abdf7c"
      },
      "execution_count": null,
      "outputs": [
        {
          "output_type": "stream",
          "name": "stdout",
          "text": [
            "('uva', 'mela', 'kiwi')\n"
          ]
        }
      ]
    },
    {
      "cell_type": "code",
      "source": [
        "fruttaTupla = list(set(frutta))\n",
        "print(fruttaTupla)"
      ],
      "metadata": {
        "id": "hUB2SBR2r4EH"
      },
      "execution_count": null,
      "outputs": []
    },
    {
      "cell_type": "code",
      "source": [
        "squadre = [\"milan\", \"inter\", \"milan\", \"juve\", \"napoli\", \"napoli\"]\n",
        "squadreSenzaRipetizioni = list(set(squadre))\n",
        "print(squadreSenzaRipetizioni)\n"
      ],
      "metadata": {
        "colab": {
          "base_uri": "https://localhost:8080/"
        },
        "id": "6VbKFjImsn5t",
        "outputId": "0c695210-dc29-4c86-a33b-ec63f122b71a"
      },
      "execution_count": null,
      "outputs": [
        {
          "output_type": "stream",
          "name": "stdout",
          "text": [
            "['juve', 'milan', 'inter', 'napoli']\n"
          ]
        }
      ]
    },
    {
      "cell_type": "code",
      "source": [
        "studentiMilan = {\"d'arienzo\", \"bernasconi\", \"geremicca\"}\n",
        "studentiInter = {\"milella\", \"lotorto\", \"bernasconi\"}\n"
      ],
      "metadata": {
        "id": "bmMCw8OWtamE"
      },
      "execution_count": null,
      "outputs": []
    },
    {
      "cell_type": "code",
      "source": [
        "studenti = studentiMilan.union(studentiInter)\n",
        "print(studenti)"
      ],
      "metadata": {
        "colab": {
          "base_uri": "https://localhost:8080/"
        },
        "id": "9ZvQ0zfDtxCc",
        "outputId": "4397a337-d116-488e-aa91-3676b867fb99"
      },
      "execution_count": null,
      "outputs": [
        {
          "output_type": "stream",
          "name": "stdout",
          "text": [
            "{'geremicca', \"d'arienzo\", 'lotorto', 'milella', 'bernasconi'}\n"
          ]
        }
      ]
    },
    {
      "cell_type": "code",
      "source": [
        "len(studenti)\n"
      ],
      "metadata": {
        "id": "MHt9ApUUuNQ1"
      },
      "execution_count": null,
      "outputs": []
    },
    {
      "cell_type": "code",
      "source": [
        "studentiDueSquadre = studentiMilan.intersection(studentiInter)\n",
        "print(studentiDueSquadre)"
      ],
      "metadata": {
        "colab": {
          "base_uri": "https://localhost:8080/"
        },
        "id": "EB3l-yV6uail",
        "outputId": "59afa48d-edc5-4fcd-ae08-e826024fad68"
      },
      "execution_count": null,
      "outputs": [
        {
          "output_type": "stream",
          "name": "stdout",
          "text": [
            "{'bernasconi'}\n"
          ]
        }
      ]
    },
    {
      "cell_type": "code",
      "source": [
        "studentiNonMilan = studenti.difference(studentiMilan)"
      ],
      "metadata": {
        "id": "eZv_oIkau3v1"
      },
      "execution_count": null,
      "outputs": []
    },
    {
      "cell_type": "code",
      "source": [
        "carlo = {\n",
        "    \"genere\":\"maschio\",\n",
        "    \"èta\":15,\n",
        "    \"altezza\":200,\n",
        "}"
      ],
      "metadata": {
        "id": "Caf22mvTxtn9"
      },
      "execution_count": null,
      "outputs": []
    },
    {
      "cell_type": "code",
      "source": [
        "for key in carlo:\n",
        "  print(carlo)\n",
        "\n",
        "\n",
        "for key,value in carlo.items():\n",
        "  print(key,value)"
      ],
      "metadata": {
        "id": "LtSpXb5yyypl"
      },
      "execution_count": null,
      "outputs": []
    },
    {
      "cell_type": "code",
      "source": [
        "fifa22 = {\n",
        "    \"svuluppo\":\"EA Sport\",\n",
        "    \"genere\":\"calcio\",\n",
        "    \"prezzo\": \"70€\"\n",
        "}"
      ],
      "metadata": {
        "id": "RFRZbu-S1BNF"
      },
      "execution_count": null,
      "outputs": []
    },
    {
      "cell_type": "code",
      "source": [
        "fidanzata = carlo.get('fidanzata')"
      ],
      "metadata": {
        "id": "pTrJMYaG2RdM"
      },
      "execution_count": null,
      "outputs": []
    },
    {
      "cell_type": "code",
      "source": [
        "muhammad = {\n",
        "    \"nome\":\"rafy\",\n",
        "    \"cognome\":\"muhammad\",\n",
        "    \"eta\": 16,\n",
        "     \n",
        "}\n",
        "print(muhammad)\n"
      ],
      "metadata": {
        "id": "Oo4-0i6P3ULN"
      },
      "execution_count": null,
      "outputs": []
    },
    {
      "cell_type": "code",
      "source": [
        "muhammad = [\"altezza\"] = 176\n",
        "print(muhammad)"
      ],
      "metadata": {
        "id": "jLbF5h2S33IV"
      },
      "execution_count": null,
      "outputs": []
    },
    {
      "cell_type": "code",
      "source": [
        "len(muhammad.keys())#get number of keys in a specified dictionary"
      ],
      "metadata": {
        "colab": {
          "base_uri": "https://localhost:8080/"
        },
        "id": "fo-hTno74cce",
        "outputId": "7273e9dd-96bd-4b04-a3c6-aa54d067a2cd"
      },
      "execution_count": null,
      "outputs": [
        {
          "output_type": "execute_result",
          "data": {
            "text/plain": [
              "3"
            ]
          },
          "metadata": {},
          "execution_count": 28
        }
      ]
    },
    {
      "cell_type": "code",
      "source": [
        "keys = list(muhammad.keys())\n",
        "\n"
      ],
      "metadata": {
        "id": "f7asIos841k1"
      },
      "execution_count": null,
      "outputs": []
    },
    {
      "cell_type": "code",
      "source": [
        "muhammad2 = muhammad.copy()"
      ],
      "metadata": {
        "id": "ZS611ZYn5l8X"
      },
      "execution_count": null,
      "outputs": []
    },
    {
      "cell_type": "code",
      "source": [
        "muhammad2.clear()\n",
        "\n",
        "\n",
        "\n",
        "\n",
        "\n",
        "\n",
        "\n",
        "\n",
        "\n",
        "\n",
        "\n",
        "\n",
        "\n",
        "\n"
      ],
      "metadata": {
        "id": "B-6I1Na05CF9"
      },
      "execution_count": null,
      "outputs": []
    },
    {
      "cell_type": "code",
      "source": [
        "keys = {\n",
        "    \"batte\",\"forte\",\"sempre\"\n",
        "}\n",
        "value= \"comodino\"\n",
        "papes2.fromkeys(keys,value)\n"
      ],
      "metadata": {
        "id": "CG1SFvYs6jwG"
      },
      "execution_count": null,
      "outputs": []
    },
    {
      "cell_type": "code",
      "source": [
        "for key in muhammad2:\n",
        "  print(papes2[key])"
      ],
      "metadata": {
        "colab": {
          "base_uri": "https://localhost:8080/"
        },
        "id": "lkJFpTD97x_7",
        "outputId": "50850221-a6ee-4c8a-c335-540df502fde8"
      },
      "execution_count": null,
      "outputs": [
        {
          "output_type": "stream",
          "name": "stdout",
          "text": [
            "0\n",
            "1\n",
            "2\n",
            "3\n",
            "4\n",
            "5\n",
            "6\n",
            "7\n",
            "8\n",
            "9\n"
          ]
        }
      ]
    },
    {
      "cell_type": "code",
      "source": [
        "carlo = {\n",
        "  \"genere\":\"maschio\",\n",
        "  \"età\":15,\n",
        "  \"altezza\":200\n",
        "}\n",
        "\n",
        "studenteg = carlo.items()\n",
        "carlg.pop(\"genere\")\n",
        "print(studente1)"
      ],
      "metadata": {
        "colab": {
          "base_uri": "https://localhost:8080/"
        },
        "id": "PMyWFmvWtsrm",
        "outputId": "dea09987-7a10-416f-f887-af3793892c1c"
      },
      "execution_count": null,
      "outputs": [
        {
          "output_type": "stream",
          "name": "stdout",
          "text": [
            "dict_items([('genere', 'mashio'), ('età', 15)])\n"
          ]
        }
      ]
    },
    {
      "cell_type": "markdown",
      "source": [],
      "metadata": {
        "id": "DVYXJLkixEeL"
      }
    },
    {
      "cell_type": "markdown",
      "source": [
        "si vogliono memorizzare le informazioni riguardanti alcune nazioni dell unione europea.\n",
        "di ogni nazione si volgiono memorizzare il nome, la capitale, la superficie e la popolazione.\n",
        "caricare le informazioni nella struttura dati ritenuta più opportuna.\n",
        "scrivere poi il codice per avere le seguenti informazioni:\n",
        "1. dato il nome di una nazione tutte le sue informazioni\n",
        "2. dato il nome di una capitale visualizzare la nazione a cui appartiene\n",
        "3. visualizzare il nome della nazione più estese\n",
        "4. visualizzare la media delle popolazioni delle nazioni presenti"
      ],
      "metadata": {
        "id": "pbbObXthxEZh"
      }
    },
    {
      "cell_type": "code",
      "source": [
        "nazioniEuropa = [\n",
        "\n",
        "    {\n",
        "      \"nome\":\"italia\",\n",
        "      \"capitale\":\"roma\",\n",
        "      \"superficie\":301000,\n",
        "      \"popolazione\":60000000\n",
        "    },\n",
        "\n",
        "    {\n",
        "      \"nome\":\"francia\",\n",
        "      \"capitale\":\"parigi\",\n",
        "      \"superficie\":4852345,\n",
        "      \"popolazione\":45734907\n",
        "    },\n",
        "\n",
        "    {\n",
        "      \"nome\":\"germania\",\n",
        "      \"capitale\":\"berlino\",\n",
        "      \"superficie\":2368397,\n",
        "      \"popolazione\":5644466543\n",
        "    },\n",
        "\n",
        "    {\n",
        "      \"nome\":\"romania\",\n",
        "      \"capitale\":\"Bucarest\",\n",
        "      \"superficie\":238397,\n",
        "      \"popolazione\":19000000\n",
        "    },\n",
        "    {\n",
        "      \"nome\":\"portogallo\",\n",
        "      \"capitale\":\"lisbona\",\n",
        "      \"superficie\":92212,\n",
        "      \"popolazione\":10000000\n",
        "    } \n",
        "    \n",
        "]\n",
        "\n",
        "\n",
        "print(nazioniEuropa)\n",
        "\n"
      ],
      "metadata": {
        "colab": {
          "base_uri": "https://localhost:8080/"
        },
        "id": "UeAISn5Dvl0Q",
        "outputId": "63d9f415-7dfd-4107-e751-0a1cc4093ae8"
      },
      "execution_count": null,
      "outputs": [
        {
          "output_type": "stream",
          "name": "stdout",
          "text": [
            "[{'nome': 'italia', 'capitale': 'roma', 'superficie': 301000, 'popolazione': 60000000}, {'nome': 'francia', 'capitale': 'parigi', 'superficie': 4852345, 'popolazione': 45734907}, {'nome': 'germania', 'capitale': 'berlino', 'superficie': 2368397, 'popolazione': 5644466543}, {'nome': 'romania', 'capitale': 'Bucarest', 'superficie': 238397, 'popolazione': 19000000}, {'nome': 'portogallo', 'capitale': 'lisbona', 'superficie': 92212, 'popolazione': 10000000}]\n"
          ]
        }
      ]
    },
    {
      "cell_type": "code",
      "source": [
        "nazioniEuropa[2][\"capitale\"]"
      ],
      "metadata": {
        "colab": {
          "base_uri": "https://localhost:8080/",
          "height": 36
        },
        "id": "WBgHDFOz6BXi",
        "outputId": "1e58f102-16d2-44bf-ce75-3d0a118891a0"
      },
      "execution_count": null,
      "outputs": [
        {
          "output_type": "execute_result",
          "data": {
            "text/plain": [
              "'Bucarest'"
            ],
            "application/vnd.google.colaboratory.intrinsic+json": {
              "type": "string"
            }
          },
          "metadata": {},
          "execution_count": 10
        }
      ]
    },
    {
      "cell_type": "code",
      "source": [
        "for i in range(len(nazioniEuropa)):\n",
        "  print(nazioniEuropa[i][\"capitale\"])\n"
      ],
      "metadata": {
        "colab": {
          "base_uri": "https://localhost:8080/"
        },
        "id": "08vAFEAa6ImB",
        "outputId": "11d5b4cd-7703-4c0e-9559-4eed7be8a1a9"
      },
      "execution_count": null,
      "outputs": [
        {
          "output_type": "stream",
          "name": "stdout",
          "text": [
            "Roma\n",
            "Roma\n",
            "Bucarest\n",
            "Bucarest\n",
            "Bucarest\n"
          ]
        }
      ]
    },
    {
      "cell_type": "code",
      "source": [
        "for nazione in nazioniEuropa:\n",
        "  print(nazione[\"capitale\"])"
      ],
      "metadata": {
        "colab": {
          "base_uri": "https://localhost:8080/"
        },
        "id": "lIlM4lvR6nwB",
        "outputId": "53edb39f-60f9-433b-e188-a94e8a6b563a"
      },
      "execution_count": null,
      "outputs": [
        {
          "output_type": "stream",
          "name": "stdout",
          "text": [
            "Roma\n",
            "Roma\n",
            "Bucarest\n",
            "Bucarest\n",
            "Bucarest\n"
          ]
        }
      ]
    },
    {
      "cell_type": "code",
      "source": [
        "nazioneAKANazSelezionata = input(\"inserire il nome di una nazione: \")\n",
        "for i in nazioniEuropa:\n",
        "  if i[\"nome\"] == nazioneAKANazSelezionata:\n",
        "    print(i[\"capitale\"])\n",
        "    print(i[\"superficie\"])\n",
        "    print(i[\"popolazione\"])\n",
        "    print(\"hai inserito una nazione\")\n",
        "  elif i[\"capitale\"] == nazioneAKANazSelezionata:\n",
        "    print(i[\"nome\"])\n",
        "    print(\"hai inserito una capitale\")"
      ],
      "metadata": {
        "colab": {
          "base_uri": "https://localhost:8080/"
        },
        "id": "IVEgrsmq7tXy",
        "outputId": "f4e73d23-bfd9-4ac3-ee5f-81b6e9d482d4"
      },
      "execution_count": null,
      "outputs": [
        {
          "output_type": "stream",
          "name": "stdout",
          "text": [
            "inserire il nome di una nazione: francia\n",
            "parigi\n",
            "4852345\n",
            "45734907\n",
            "hai inserito una nazione\n"
          ]
        }
      ]
    },
    {
      "cell_type": "code",
      "source": [
        "superfici = [nazioniEuropa[i][\"superficie\"] for i in range(len(nazioniEuropa))]\n",
        "\n",
        "\n",
        "for i in nazioniEuropa:\n",
        "  if max(superfici) == i[\"superficie\"]:\n",
        "    print(i[\"nome\"])"
      ],
      "metadata": {
        "colab": {
          "base_uri": "https://localhost:8080/"
        },
        "id": "MTChAI5E_tW8",
        "outputId": "0bfad0bf-8303-4a94-c797-00f51b13ccd2"
      },
      "execution_count": null,
      "outputs": [
        {
          "output_type": "stream",
          "name": "stdout",
          "text": [
            "francia\n"
          ]
        }
      ]
    },
    {
      "cell_type": "markdown",
      "source": [
        "memorizzare in un opportuna struttura dati i nomi di 10 città europee e in un altra struttura dati i nomi di 10 capitali.\n",
        "scrivere poi il codice necessario per avere i nomi delle città che sono anche capitali."
      ],
      "metadata": {
        "id": "BFMT-NLmwjqo"
      }
    }
  ]
}