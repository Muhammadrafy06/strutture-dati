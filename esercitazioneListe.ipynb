{
  "nbformat": 4,
  "nbformat_minor": 0,
  "metadata": {
    "colab": {
      "provenance": []
    },
    "kernelspec": {
      "name": "python3",
      "display_name": "Python 3"
    },
    "language_info": {
      "name": "python"
    }
  },
  "cells": [
    {
      "cell_type": "code",
      "execution_count": null,
      "metadata": {
        "id": "RUkxLbtVrGtA"
      },
      "outputs": [],
      "source": []
    },
    {
      "cell_type": "code",
      "source": [
        "#caricare in una lista i numeri 8,17,-5,4,76,9,2\n",
        "\n",
        "\n",
        "\n",
        "#print(lista[0])\n",
        "\n",
        "##print(lista[-1])\n",
        "\n",
        "#print(lista[len(lista) - 2])\n",
        " "
      ],
      "metadata": {
        "colab": {
          "base_uri": "https://localhost:8080/"
        },
        "id": "1_kFD2Y2rHor",
        "outputId": "e9bba454-6308-4dce-a38d-fa63f34720e6"
      },
      "execution_count": null,
      "outputs": [
        {
          "output_type": "stream",
          "name": "stdout",
          "text": [
            "8\n",
            "2\n",
            "9\n"
          ]
        }
      ]
    },
    {
      "cell_type": "code",
      "source": [
        "#aggiungere i valori 7.8.4.9 alla lista \n",
        "#lista.extend([7,8,4,9])\n",
        "#print(lista)"
      ],
      "metadata": {
        "colab": {
          "base_uri": "https://localhost:8080/"
        },
        "id": "57w4gtr6swp6",
        "outputId": "3d58384e-ebce-41b7-d433-734b2fdeb49c"
      },
      "execution_count": null,
      "outputs": [
        {
          "output_type": "stream",
          "name": "stdout",
          "text": [
            "[8, 17, -5, 4, 76, 9, 2, 7, 8, 4, 9]\n"
          ]
        }
      ]
    },
    {
      "cell_type": "code",
      "source": [
        "#lista.sort()\n",
        "#print(lista)"
      ],
      "metadata": {
        "colab": {
          "base_uri": "https://localhost:8080/"
        },
        "id": "Q8QX877YtkNp",
        "outputId": "78cdfdc6-e150-4f0d-d97b-6eb5c647b646"
      },
      "execution_count": null,
      "outputs": [
        {
          "output_type": "stream",
          "name": "stdout",
          "text": [
            "[-5, 2, 4, 4, 7, 8, 8, 9, 9, 17, 76]\n"
          ]
        }
      ]
    },
    {
      "cell_type": "code",
      "source": [
        "\n",
        "#lista.pop(2)\n",
        "#lista.pop(4)\n",
        "#print(lista)"
      ],
      "metadata": {
        "colab": {
          "base_uri": "https://localhost:8080/"
        },
        "id": "Zs7eTso7uYTE",
        "outputId": "cd4d5537-2297-46e1-a431-d74600bb880a"
      },
      "execution_count": null,
      "outputs": [
        {
          "output_type": "stream",
          "name": "stdout",
          "text": [
            "[-5, 2, 7, 8, 17, 76]\n"
          ]
        }
      ]
    },
    {
      "cell_type": "code",
      "source": [
        "\n",
        "\n",
        "\n",
        "#while 4 in lista:\n",
        "#  lista.remove(4)\n",
        "#print(lista)  \n",
        "\n",
        "\n",
        "#lista = list(filter((7).__ne__,lista))\n",
        "\n"
      ],
      "metadata": {
        "colab": {
          "base_uri": "https://localhost:8080/"
        },
        "id": "3796UtMovA7A",
        "outputId": "8d59b974-fe8b-424e-9f40-32585c59a203"
      },
      "execution_count": null,
      "outputs": [
        {
          "output_type": "stream",
          "name": "stdout",
          "text": [
            "[]\n"
          ]
        }
      ]
    },
    {
      "cell_type": "code",
      "source": [
        "#contare il numero di volte che compare il numero 9\n",
        "#lista.count(9)"
      ],
      "metadata": {
        "id": "56NNmtEe2cCP"
      },
      "execution_count": null,
      "outputs": []
    },
    {
      "cell_type": "code",
      "source": [
        "\n",
        "lista = [8, 17 ,-5, 4, 17, 9, 2]\n",
        "print(lista)\n"
      ],
      "metadata": {
        "colab": {
          "base_uri": "https://localhost:8080/"
        },
        "id": "q_RaOUS03XoA",
        "outputId": "6d934641-494d-408a-f97b-506f088fa2a2"
      },
      "execution_count": null,
      "outputs": [
        {
          "output_type": "stream",
          "name": "stdout",
          "text": [
            "[8, 17, -5, 4, 17, 9, 2]\n"
          ]
        }
      ]
    },
    {
      "cell_type": "code",
      "source": [
        "lista.insert(lista.index(17),0)\n",
        "print(lista)"
      ],
      "metadata": {
        "colab": {
          "base_uri": "https://localhost:8080/"
        },
        "id": "iA1PYgeD3xvs",
        "outputId": "da2388c6-9c5c-4276-bc1c-af9165fc991c"
      },
      "execution_count": null,
      "outputs": [
        {
          "output_type": "stream",
          "name": "stdout",
          "text": [
            "[3, -2, 8, 0, 17, -5, 4, 76, 0, 9, 2]\n"
          ]
        }
      ]
    },
    {
      "cell_type": "code",
      "source": [
        "lista.insert(lista.index(17) + 1,0)\n",
        "print(lista)"
      ],
      "metadata": {
        "colab": {
          "base_uri": "https://localhost:8080/"
        },
        "id": "vzchYJMB4lsc",
        "outputId": "b1fd1e56-f005-4b8a-ea20-dd424cd3c08b"
      },
      "execution_count": null,
      "outputs": [
        {
          "output_type": "stream",
          "name": "stdout",
          "text": [
            "[3, -2, 8, 0, 0, 17, 0, -5, 4, 76, 0, 9, 2]\n"
          ]
        }
      ]
    },
    {
      "cell_type": "code",
      "source": [
        "lista.pop(4)\n",
        "print(lista)"
      ],
      "metadata": {
        "colab": {
          "base_uri": "https://localhost:8080/"
        },
        "id": "CK98Nimb5HJF",
        "outputId": "99d7a79d-c98b-4c7e-fc5e-078d62e8c929"
      },
      "execution_count": null,
      "outputs": [
        {
          "output_type": "stream",
          "name": "stdout",
          "text": [
            "[3, -2, 8, 0, 17, 0, -5, 4, 76, 0, 9]\n"
          ]
        }
      ]
    },
    {
      "cell_type": "code",
      "source": [
        "del lista[1]\n",
        "print(lista)"
      ],
      "metadata": {
        "colab": {
          "base_uri": "https://localhost:8080/"
        },
        "id": "8um5oybz5u9C",
        "outputId": "d9118161-5282-4324-d202-973fc7ec2524"
      },
      "execution_count": null,
      "outputs": [
        {
          "output_type": "stream",
          "name": "stdout",
          "text": [
            "[3, 8, 0, 17, 0, -5, 4, 76, 0, 9]\n"
          ]
        }
      ]
    },
    {
      "cell_type": "code",
      "source": [],
      "metadata": {
        "id": "tUaHj8c_6T7x"
      },
      "execution_count": null,
      "outputs": []
    },
    {
      "cell_type": "code",
      "source": [
        "lista1 = [5,7,9,2]\n",
        "lista2 = lista1\n",
        "print(lista1)\n",
        "print(lista2)"
      ],
      "metadata": {
        "colab": {
          "base_uri": "https://localhost:8080/"
        },
        "id": "XbpmI7KX6KmP",
        "outputId": "52d1c1a9-666c-4b71-e90c-284c0c70a80d"
      },
      "execution_count": null,
      "outputs": [
        {
          "output_type": "stream",
          "name": "stdout",
          "text": [
            "[5, 7, 9, 2]\n",
            "[5, 7, 9, 2]\n"
          ]
        }
      ]
    },
    {
      "cell_type": "code",
      "source": [
        "#get memory adress\n",
        "print(id(lista1))\n",
        "print(hex(lista[1]))"
      ],
      "metadata": {
        "colab": {
          "base_uri": "https://localhost:8080/"
        },
        "id": "jzez8QiC6Ynu",
        "outputId": "0734c83c-ec03-494b-c44d-302486843d59"
      },
      "execution_count": null,
      "outputs": [
        {
          "output_type": "stream",
          "name": "stdout",
          "text": [
            "140410524426960\n",
            "0x8\n"
          ]
        }
      ]
    },
    {
      "cell_type": "code",
      "source": [],
      "metadata": {
        "id": "Mq2R7iok7lit"
      },
      "execution_count": null,
      "outputs": []
    },
    {
      "cell_type": "markdown",
      "source": [
        "1. iniziallizare una lista con i seguenti numeri 8 18 27 -8 51 40 -9 -76\n",
        "2. aggiungere in fondo alla lista i valori 7 4 95\n",
        "3. aggiungere all inizio della lista i valori 7 4 95\n",
        "4. visualizzare il numero degli elementi della lista\n",
        "5. aggiungere in quarta posizione il valore 100\n",
        "6. eliminare il terzultimo elemento della lista\n",
        "7. visualizzare il valore massimo, minimo della lista    \n",
        "8. calcollare la somma delgi elemnti della lista\n",
        "9. calcolare la media degli elementi della lista \n",
        "10. rimuovere dalla lista il numero 7 \n",
        "11. oridnare la lista in ordine decrescente \n",
        "12. eliminare dalla lista il numero più alto e il numero più basso\n",
        "13. visualizzare gli elementi di poasto pari e dispari\n",
        "14. visualuzzare i primi 5 elemnti\n",
        "15. visualizzare gli ultimi 5 elemnti \n",
        "16. visualizzare i 5 elementi centrali\n",
        "17. rimuovere i duplicati presenti nella lista\n",
        "\n"
      ],
      "metadata": {
        "id": "9Xn8PzUo7m8n"
      }
    },
    {
      "cell_type": "code",
      "source": [
        "#1\n",
        "lista4 = [8 ,18 ,27 ,-8, 51, 40, -9, -8]\n",
        "\n",
        "print(lista4)"
      ],
      "metadata": {
        "colab": {
          "base_uri": "https://localhost:8080/"
        },
        "id": "FgxSdFXS83Ed",
        "outputId": "74ec4449-ab1a-495a-90ce-29bc6170ff69"
      },
      "execution_count": null,
      "outputs": [
        {
          "output_type": "stream",
          "name": "stdout",
          "text": [
            "[8, 18, 27, -8, 51, 40, -9, -8]\n"
          ]
        }
      ]
    },
    {
      "cell_type": "code",
      "source": [
        "lista4.extend([7, 4 ,95])\n",
        "print(lista4)"
      ],
      "metadata": {
        "id": "IXQ5QpLK_LXi"
      },
      "execution_count": null,
      "outputs": []
    },
    {
      "cell_type": "code",
      "source": [
        "lista4 = [7 , 4 , 95] + lista4\n",
        "print(lista4)"
      ],
      "metadata": {
        "colab": {
          "base_uri": "https://localhost:8080/"
        },
        "id": "PFNMmG76_N5-",
        "outputId": "992029f2-123b-49ad-caa5-cdde66b6d9df"
      },
      "execution_count": null,
      "outputs": [
        {
          "output_type": "stream",
          "name": "stdout",
          "text": [
            "[7, 4, 95, 7, 4, 95, 8, 18, 27, -8, 51, 40, -9, -76, 7, 4, 95]\n"
          ]
        }
      ]
    },
    {
      "cell_type": "code",
      "source": [
        "#4\n",
        "elementi = len(lista4)\n",
        "print(elementi)"
      ],
      "metadata": {
        "colab": {
          "base_uri": "https://localhost:8080/"
        },
        "id": "g_Ps1CXh_Pv4",
        "outputId": "d4cbb2f3-cd33-4acd-d578-502cd9efe2ef"
      },
      "execution_count": null,
      "outputs": [
        {
          "output_type": "stream",
          "name": "stdout",
          "text": [
            "17\n"
          ]
        }
      ]
    },
    {
      "cell_type": "code",
      "source": [
        "#5\n",
        "lista4.insert(4 , 100)\n",
        "print(lista4)"
      ],
      "metadata": {
        "colab": {
          "base_uri": "https://localhost:8080/"
        },
        "id": "9vWpw_Nc_uVv",
        "outputId": "1e8f7abc-6b1e-4f18-94da-23f866b5f4d5"
      },
      "execution_count": null,
      "outputs": [
        {
          "output_type": "stream",
          "name": "stdout",
          "text": [
            "[7, 4, 95, 7, 100, 100, 4, 95, 8, 18, 27, -8, 51, 40, 95]\n"
          ]
        }
      ]
    },
    {
      "cell_type": "code",
      "source": [
        "#6\n",
        "lista4.pop(len(lista4) - 2)\n",
        "print(lista4)"
      ],
      "metadata": {
        "colab": {
          "base_uri": "https://localhost:8080/"
        },
        "id": "IBVpwPfH__Ee",
        "outputId": "065a7313-11e1-474d-e2c5-264df84189a2"
      },
      "execution_count": null,
      "outputs": [
        {
          "output_type": "stream",
          "name": "stdout",
          "text": [
            "[7, 4, 95, 7, 100, 100, 4, 95, 8, 18, 95]\n"
          ]
        }
      ]
    },
    {
      "cell_type": "code",
      "source": [
        "#7\n",
        "minimo = min(lista4)\n",
        "massimo = max(lista4)\n",
        "print(minimo, massimo)"
      ],
      "metadata": {
        "colab": {
          "base_uri": "https://localhost:8080/"
        },
        "id": "8ZmG3TF4Apvv",
        "outputId": "bbd70384-dea7-4f31-8dda-d8b4815bc9a5"
      },
      "execution_count": null,
      "outputs": [
        {
          "output_type": "stream",
          "name": "stdout",
          "text": [
            "4 100\n"
          ]
        }
      ]
    },
    {
      "cell_type": "code",
      "source": [
        "#8\n",
        "somma = sum(lista4)\n",
        "print(somma)"
      ],
      "metadata": {
        "colab": {
          "base_uri": "https://localhost:8080/"
        },
        "id": "PahAZ5dKBSxO",
        "outputId": "80d675b8-cea4-4a63-ce91-1784e9f37224"
      },
      "execution_count": null,
      "outputs": [
        {
          "output_type": "stream",
          "name": "stdout",
          "text": [
            "533\n"
          ]
        }
      ]
    },
    {
      "cell_type": "code",
      "source": [
        "#9\n",
        "import statistics\n",
        "media = statistics.mean(lista4)\n",
        "print(media)\n",
        "print(lista4)"
      ],
      "metadata": {
        "colab": {
          "base_uri": "https://localhost:8080/"
        },
        "id": "t1qK0wXmBsb6",
        "outputId": "62e93423-79f6-4d18-d294-bdec1ef68b2c"
      },
      "execution_count": null,
      "outputs": [
        {
          "output_type": "stream",
          "name": "stdout",
          "text": [
            "48.45454545454545\n",
            "[7, 4, 95, 7, 100, 100, 4, 95, 8, 18, 95]\n"
          ]
        }
      ]
    },
    {
      "cell_type": "code",
      "source": [
        "#10\n",
        "lista4.remove(7)\n",
        "print(lista4)"
      ],
      "metadata": {
        "colab": {
          "base_uri": "https://localhost:8080/"
        },
        "id": "goOH8H7wCSCF",
        "outputId": "97271d7a-aaeb-43ff-9cdb-bd1dcb551a22"
      },
      "execution_count": null,
      "outputs": [
        {
          "output_type": "stream",
          "name": "stdout",
          "text": [
            "[4, 95, 100, 100, 4, 95, 8, 18, 95]\n"
          ]
        }
      ]
    },
    {
      "cell_type": "code",
      "source": [
        "#11\n",
        "descending = sorted(lista4, reverse=True)\n",
        "print(descending)"
      ],
      "metadata": {
        "id": "KAAU_gfWCvv_"
      },
      "execution_count": null,
      "outputs": []
    },
    {
      "cell_type": "code",
      "source": [
        "#12\n",
        "lista4.remove(max(lista4))\n",
        "lista4.remove(min(lista4))\n",
        "print(lista4)"
      ],
      "metadata": {
        "colab": {
          "base_uri": "https://localhost:8080/",
          "height": 226
        },
        "id": "op47jFy_DDeG",
        "outputId": "8e571914-d071-47ab-e150-a3f1d2af291a"
      },
      "execution_count": null,
      "outputs": [
        {
          "output_type": "error",
          "ename": "NameError",
          "evalue": "ignored",
          "traceback": [
            "\u001b[0;31m---------------------------------------------------------------------------\u001b[0m",
            "\u001b[0;31mNameError\u001b[0m                                 Traceback (most recent call last)",
            "\u001b[0;32m<ipython-input-6-83f451569b1d>\u001b[0m in \u001b[0;36m<module>\u001b[0;34m\u001b[0m\n\u001b[1;32m      1\u001b[0m \u001b[0;31m#12\u001b[0m\u001b[0;34m\u001b[0m\u001b[0;34m\u001b[0m\u001b[0;34m\u001b[0m\u001b[0m\n\u001b[0;32m----> 2\u001b[0;31m \u001b[0mlista4\u001b[0m\u001b[0;34m.\u001b[0m\u001b[0mremove\u001b[0m\u001b[0;34m(\u001b[0m\u001b[0mmax\u001b[0m\u001b[0;34m(\u001b[0m\u001b[0mlista4\u001b[0m\u001b[0;34m)\u001b[0m\u001b[0;34m)\u001b[0m\u001b[0;34m\u001b[0m\u001b[0;34m\u001b[0m\u001b[0m\n\u001b[0m\u001b[1;32m      3\u001b[0m \u001b[0mlista4\u001b[0m\u001b[0;34m.\u001b[0m\u001b[0mremove\u001b[0m\u001b[0;34m(\u001b[0m\u001b[0mmin\u001b[0m\u001b[0;34m(\u001b[0m\u001b[0mlista4\u001b[0m\u001b[0;34m)\u001b[0m\u001b[0;34m)\u001b[0m\u001b[0;34m\u001b[0m\u001b[0;34m\u001b[0m\u001b[0m\n\u001b[1;32m      4\u001b[0m \u001b[0mprint\u001b[0m\u001b[0;34m(\u001b[0m\u001b[0mlista4\u001b[0m\u001b[0;34m)\u001b[0m\u001b[0;34m\u001b[0m\u001b[0;34m\u001b[0m\u001b[0m\n",
            "\u001b[0;31mNameError\u001b[0m: name 'lista4' is not defined"
          ]
        }
      ]
    },
    {
      "cell_type": "code",
      "source": [
        "#13\n",
        "\n",
        "\n",
        "\n",
        "pari=[]\n",
        "dispari=[]\n",
        "for i in len(lista4):\n",
        "  if(lista4[i]%2==0):\n",
        "    pari.append(lista4[i])\n",
        "  else:\n",
        "    dispari.append(lista4[i])\n",
        "print(pari)\n",
        "print(dispari)"
      ],
      "metadata": {
        "id": "RKRKvSCtDTxW"
      },
      "execution_count": null,
      "outputs": []
    },
    {
      "cell_type": "code",
      "source": [
        "#14\n",
        "print(lista4[0:5])"
      ],
      "metadata": {
        "colab": {
          "base_uri": "https://localhost:8080/"
        },
        "id": "il84UJsnwsQL",
        "outputId": "f2bea424-f958-4b20-a691-cf55c92604e7"
      },
      "execution_count": null,
      "outputs": [
        {
          "output_type": "stream",
          "name": "stdout",
          "text": [
            "[8, 18, 27, -8, 51]\n"
          ]
        }
      ]
    },
    {
      "cell_type": "code",
      "source": [
        "#15\n",
        "print(lista4[-5:])"
      ],
      "metadata": {
        "colab": {
          "base_uri": "https://localhost:8080/"
        },
        "id": "R-od1SOkw1zD",
        "outputId": "a9f2c4ae-0668-4c13-c39b-f650c4cd7f55"
      },
      "execution_count": null,
      "outputs": [
        {
          "output_type": "stream",
          "name": "stdout",
          "text": [
            "[-8, 51, 40, -9, -76]\n"
          ]
        }
      ]
    },
    {
      "cell_type": "code",
      "source": [
        "\n",
        "\n",
        " \n",
        "res = []\n",
        "for i in lista4:\n",
        "    if i not in res:\n",
        "        res.append(i)\n",
        " \n",
        "\n",
        "print(str(res))"
      ],
      "metadata": {
        "colab": {
          "base_uri": "https://localhost:8080/"
        },
        "id": "z54EW4YryI0f",
        "outputId": "7cc088fd-f0f4-4133-cefe-a85b1a3e8695"
      },
      "execution_count": null,
      "outputs": [
        {
          "output_type": "stream",
          "name": "stdout",
          "text": [
            "The list after removing duplicates : [8, 18, 27, -8, 51, 40, -9]\n"
          ]
        }
      ]
    },
    {
      "cell_type": "code",
      "source": [],
      "metadata": {
        "id": "0ba-dQVZC62N"
      },
      "execution_count": null,
      "outputs": []
    }
  ]
}