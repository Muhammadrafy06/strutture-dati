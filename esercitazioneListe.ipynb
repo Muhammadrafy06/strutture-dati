{
  "nbformat": 4,
  "nbformat_minor": 0,
  "metadata": {
    "colab": {
      "provenance": [],
      "collapsed_sections": [],
      "authorship_tag": "ABX9TyN28gRpUBKIKHCTKYGFBmke",
      "include_colab_link": true
    },
    "kernelspec": {
      "name": "python3",
      "display_name": "Python 3"
    },
    "language_info": {
      "name": "python"
    }
  },
  "cells": [
    {
      "cell_type": "markdown",
      "metadata": {
        "id": "view-in-github",
        "colab_type": "text"
      },
      "source": [
        "<a href=\"https://colab.research.google.com/github/Muhammadrafy06/python/blob/main/esercitazioneListe.ipynb\" target=\"_parent\"><img src=\"https://colab.research.google.com/assets/colab-badge.svg\" alt=\"Open In Colab\"/></a>"
      ]
    },
    {
      "cell_type": "code",
      "execution_count": null,
      "metadata": {
        "id": "R0NilXJaSC6W"
      },
      "outputs": [],
      "source": [
        "#1. inserire i dati in strutture dati opportune\n",
        "persona = [\"Luca\", \"Carlo\", \"Maria\", \"Angela\", \"Stefano\", \"Davide\"]\n",
        "altezza = [1.80,   1.67,    1.75,    1.68,     1.81,      1.78    ]\n",
        "peso   = [77.0, 48.0, 81.0,  55.0, 90.0, 70.0]\n"
      ]
    },
    {
      "cell_type": "code",
      "source": [
        "#2. far inserire all'utente un nome e fornire il peso e l'altezza dello studente inserito\n",
        "nomeInput = input(\"inserire nome studente: \")\n",
        "if nomeInput in persona:\n",
        "    print(altezza[persona.index(nomeInput)], \" \", peso[persona.index(nomeInput)])\n",
        "else:\n",
        "    print(\"non in elenco\")"
      ],
      "metadata": {
        "colab": {
          "base_uri": "https://localhost:8080/"
        },
        "id": "h7MSgyaIGn2I",
        "outputId": "26a99d8e-5258-4b32-96b6-7afc4fbb5ac8"
      },
      "execution_count": null,
      "outputs": [
        {
          "output_type": "stream",
          "name": "stdout",
          "text": [
            "inserire nome studente: Stefano\n",
            "1.81   90.0\n"
          ]
        }
      ]
    },
    {
      "cell_type": "code",
      "source": [
        "#3. visualizzare il nome dello studente più alto\n",
        "altezzaMassima = max(altezza)\n",
        "print(persona[altezza.index(altezzaMassima)])"
      ],
      "metadata": {
        "id": "uoi7eZPHGnkC"
      },
      "execution_count": null,
      "outputs": []
    },
    {
      "cell_type": "code",
      "source": [
        "#4 visualizzare il nome dello studente più magro\n",
        "pesoMinimo = min(peso)\n",
        "print(persona[peso.index(pesoMinimo)])"
      ],
      "metadata": {
        "id": "nS6lJ9ANGndc"
      },
      "execution_count": null,
      "outputs": []
    },
    {
      "cell_type": "code",
      "source": [
        "#5. far inserire il nome di uno studente e calcolare il suo IMC\n",
        "nomeInput = input(\"Inserire il nome di uno studente: \")\n",
        "if nomeInput in persona:\n",
        "    peso = peso[persona.index(nomeInput)]\n",
        "    altezza = altezza[persona.index(nomeInput)]\n",
        "    IMC = peso / (altezza * altezza)\n",
        "    print(IMC)"
      ],
      "metadata": {
        "colab": {
          "base_uri": "https://localhost:8080/"
        },
        "id": "-pEnUjTBGnWh",
        "outputId": "4f0887d6-0637-438f-d5f9-77d3a5a659fe"
      },
      "execution_count": null,
      "outputs": [
        {
          "output_type": "stream",
          "name": "stdout",
          "text": [
            "Inserire il nome di uno studente: Angela\n",
            "La media di Angela è 19.48696145124717\n"
          ]
        }
      ]
    },
    {
      "cell_type": "code",
      "source": [
        "#6. calcolare il peso medio degli studenti\n",
        "from statistics import mean\n",
        "\n",
        "print(mean(peso))\n"
      ],
      "metadata": {
        "colab": {
          "base_uri": "https://localhost:8080/"
        },
        "id": "c-Ky1RkoGnCZ",
        "outputId": "80be05b7-b6c3-4ac8-f7e6-d3297af34937"
      },
      "execution_count": null,
      "outputs": [
        {
          "output_type": "stream",
          "name": "stdout",
          "text": [
            "70.16666666666667\n"
          ]
        }
      ]
    },
    {
      "cell_type": "code",
      "source": [
        "#7. visualizzare il numero di studenti\n",
        "print(len(persona))"
      ],
      "metadata": {
        "id": "ApdBSWaeGm6a"
      },
      "execution_count": null,
      "outputs": []
    },
    {
      "cell_type": "code",
      "source": [
        "#8. aggiungere lo studente Marco che pesa 76 Kg ed è alto 1.90\n",
        "persona.append(\"Marco\")\n",
        "altezza.append(1.90)\n",
        "peso.append(76)"
      ],
      "metadata": {
        "id": "2KnUnc1_Gmt1"
      },
      "execution_count": null,
      "outputs": []
    },
    {
      "cell_type": "code",
      "source": [
        "#9 eliminare le informazioni riguardanti Maria\n",
        "altezza.remove(altezza[persona.index(\"Maria\")])\n",
        "peso.remove(peso[persona.index(\"Maria\")])\n",
        "persona.remove(\"Maria\")"
      ],
      "metadata": {
        "id": "zZiTq-PlarvJ"
      },
      "execution_count": null,
      "outputs": []
    }
  ]
}